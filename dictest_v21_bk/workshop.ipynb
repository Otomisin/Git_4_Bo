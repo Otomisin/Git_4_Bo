{
 "cells": [
  {
   "cell_type": "code",
   "execution_count": 2,
   "metadata": {},
   "outputs": [
    {
     "name": "stdout",
     "output_type": "stream",
     "text": [
      "1. A human being; -- opposed tobeast. These men went about wide, and man found they none, But fair country, and wild beast many [a] one. R. of Glouc. The king is but a man, as I am; the violet smells to him as it doth to me. Shak. 2. Especially: An adult male person; a grown-up male person, as distinguished from a woman or a child. When I became a man, I put away childish things. I Cor. xiii. 11. Ceneus, a woman once, and once a man. Dryden. 3. The human race; mankind. And God said, Let us make man in our image, after our likeness, and let them have dominion. Gen. i. 26. The proper study of mankind is man. Pope. 4. The male portion of the human race. Woman has, in general, much stronger propensity than man to the discharge of parental duties. Cowper. 5. One possessing in a high degree the distinctive qualities of manhood; one having manly excellence of any kind. Shak. This was the noblest Roman of them all . . . the elements So mixed in him that Nature might stand up And say to all the world \"This was a man! Shak. 6. An adult male servant; also, a vassal; a subject. Like master, like man. Old Proverb. The vassal, or tenant, kneeling, ungirt, uncovered, and holding up his hands between those of his lord, professed that he did become his man from that day forth, of life, limb, and earthly honor. Blackstone. 7. A term of familiar address often implying on the part of the speaker some degree of authority, impatience, or haste; as, Come, man, we 've no time to lose ! 8. A married man; a husband; -- correlative to wife. I pronounce that they are man and wife. Book of Com. Prayer. every wife ought to answer for her man. Addison. 9. One, or any one, indefinitely; -- a modified survival of the Saxon use of man, or mon, as an indefinite pronoun. A man can not make him laugh. Shak. A man would expect to find some antiquities; but all they have to show of this nature is an old rostrum of a Roman ship. Addison. 10. One of the piece with which certain games, as chess or draughts, are played. Note: Man is often used as a prefix in composition, or as a separate adjective, its sense being usually self-explaining; as, man child, man eater or maneater, man-eating, man hater or manhater, man-hating, manhunter, man-hunting, mankiller, man-killing, man midwife, man pleaser, man servant, man-shaped, manslayer, manstealer, man- stealing, manthief, man worship, etc. Man is also used as a suffix to denote a person of the male sex having a business which pertains to the thing spoken of in the qualifying part of the compound; ashman, butterman, laundryman, lumberman, milkman, fireman, showman, waterman, woodman. Where the combination is not familiar, or where some specific meaning of the compound is to be avoided, man is used as a separate substantive in the foregoing sense; as, apple man, cloth man, coal man, hardware man, wood man (as distinguished from woodman). Man ape (Zoöl.), a anthropoid ape, as the gorilla. -- Man at arms, a designation of the fourteenth and fifteenth centuries for a soldier fully armed. -- Man engine, a mechanical lift for raising or lowering people through considerable distances; specifically (Mining), a contrivance by which miners ascend or descend in a shaft. It consists of a series of landings in the shaft and an equal number of shelves on a vertical rod which has an up and down motion equal to the distance between the successive landings. A man steps from a landing to a shelf and is lifted or lowered to the next landing, upon which he them steps, and so on, traveling by successive stages. -- Man Friday, a person wholly subservient to the will of another, like Robinson Crusoe's servant Friday. -- Man of straw, a puppet; one who is controlled by others; also, one who is not responsible pecuniarily. -- Man-of-the earth (Bot.), a twining plant (Ipomoea pandurata) with leaves and flowers much like those of the morning-glory, but having an immense tuberous farinaceous root. -- Man of war. (a) A warrior; a soldier. Shak. (b) (Naut.) See in the Vocabulary. -- To be one's own man, to have command of one's self; not to be subject to another.\n",
      "\n",
      "1. To supply with men; to furnish with a sufficient force or complement of men, as for management, service, defense, or the like; to guard; as, to man a ship, boat, or fort. See how the surly Warwick mans the wall ! Shak. They man their boats, and all their young men arm. Waller. 2. To furnish with strength for action; to prepare for efficiency; to fortify. \"Theodosius having manned his soul with proper reflections.\" Addison. 3. To tame, as a hawk. [R.] Shak. 4. To furnish with a servants. [Obs.] Shak. 5. To wait on as a manservant. [Obs.] Shak. Note: In \"Othello,\" V. ii. 270, the meaning is uncertain, being, perhaps: To point, to aim, or to manage. To man a yard (Naut.), to send men upon a yard, as for furling or reefing a sail. -- To man the yards (Naut.), to station men on the yards as a salute or mark of respect.\n"
     ]
    }
   ],
   "source": [
    "import json\n",
    "from difflib import get_close_matches\n",
    "\n",
    "# Use the correct path to the JSON file\n",
    "path = r\"C:\\Users\\orena\\OneDrive\\01_ORENAIKE\\02_CAREER_AND_DEVELOPMENTS\\SkillsIT\\Python\\django\\dictionary_data\\dictionary_compact.json\"\n",
    "\n",
    "# Load the JSON data using the path variable\n",
    "data = json.load(open(path))\n",
    "\n",
    "word = input('Enter a word: ').lower()\n",
    "possible = get_close_matches(word, data.keys())\n",
    "\n",
    "def translate(x):\n",
    "    if x in data:\n",
    "        return data[x]\n",
    "    elif len(possible) > 0:\n",
    "        newword = input(f\"Word not found! Try these: {possible}: \").lower()\n",
    "        if newword in data:\n",
    "            return data[newword]\n",
    "        else:\n",
    "            return \"The suggested word doesn't exist in the dictionary.\"\n",
    "    else:\n",
    "        return \"Word doesn't exist!\"\n",
    "\n",
    "# Execute the function\n",
    "print(translate(word))\n"
   ]
  },
  {
   "cell_type": "markdown",
   "metadata": {},
   "source": [
    "# Convert excel sheet to json "
   ]
  },
  {
   "cell_type": "code",
   "execution_count": 7,
   "metadata": {},
   "outputs": [
    {
     "name": "stdout",
     "output_type": "stream",
     "text": [
      "JSON data has been successfully saved to words_clean.json\n"
     ]
    }
   ],
   "source": [
    "import pandas as pd\n",
    "import json\n",
    "\n",
    "# Load the Excel file\n",
    "file_path = r\"C:\\Users\\orenaike\\OneDrive\\01_ORENAIKE\\02_CAREER_AND_DEVELOPMENTS\\Projects\\Language-Projects\\Team\\Words.xlsx\"  # Update the path\n",
    "sheet_name = \"Sample\"\n",
    "\n",
    "# Read the data from the specified sheet\n",
    "df = pd.read_excel(file_path, sheet_name=sheet_name)\n",
    "\n",
    "# Convert the DataFrame to a list of dictionaries\n",
    "data_dict = df.to_dict(orient=\"records\")\n",
    "\n",
    "# Use json.dumps to format the data with ensure_ascii=False\n",
    "data_json = json.dumps(data_dict, indent=4, ensure_ascii=False)\n",
    "\n",
    "# Save the JSON data to a file\n",
    "output_file_sample = \"words_clean.json\"\n",
    "with open(output_file_sample, \"w\", encoding=\"utf-8\") as json_file:\n",
    "    json_file.write(data_json)\n",
    "\n",
    "# Display a confirmation message\n",
    "print(f\"JSON data has been successfully saved to {output_file_sample}\")\n"
   ]
  }
 ],
 "metadata": {
  "kernelspec": {
   "display_name": "dataenv",
   "language": "python",
   "name": "python3"
  },
  "language_info": {
   "codemirror_mode": {
    "name": "ipython",
    "version": 3
   },
   "file_extension": ".py",
   "mimetype": "text/x-python",
   "name": "python",
   "nbconvert_exporter": "python",
   "pygments_lexer": "ipython3",
   "version": "3.9.15"
  }
 },
 "nbformat": 4,
 "nbformat_minor": 2
}
